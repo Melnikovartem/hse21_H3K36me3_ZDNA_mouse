{
 "cells": [
  {
   "cell_type": "code",
   "execution_count": 22,
   "metadata": {},
   "outputs": [],
   "source": [
    "import pandas as pd\n",
    "import matplotlib.pyplot as plt"
   ]
  },
  {
   "cell_type": "code",
   "execution_count": 23,
   "metadata": {},
   "outputs": [
    {
     "data": {
      "text/html": [
       "<div>\n",
       "<style scoped>\n",
       "    .dataframe tbody tr th:only-of-type {\n",
       "        vertical-align: middle;\n",
       "    }\n",
       "\n",
       "    .dataframe tbody tr th {\n",
       "        vertical-align: top;\n",
       "    }\n",
       "\n",
       "    .dataframe thead th {\n",
       "        text-align: right;\n",
       "    }\n",
       "</style>\n",
       "<table border=\"1\" class=\"dataframe\">\n",
       "  <thead>\n",
       "    <tr style=\"text-align: right;\">\n",
       "      <th></th>\n",
       "      <th>0</th>\n",
       "      <th>1</th>\n",
       "      <th>2</th>\n",
       "      <th>3</th>\n",
       "      <th>4</th>\n",
       "      <th>len</th>\n",
       "    </tr>\n",
       "  </thead>\n",
       "  <tbody>\n",
       "    <tr>\n",
       "      <th>0</th>\n",
       "      <td>chr1</td>\n",
       "      <td>10022841</td>\n",
       "      <td>10025240</td>\n",
       "      <td>Peak_10672</td>\n",
       "      <td>270</td>\n",
       "      <td>2399</td>\n",
       "    </tr>\n",
       "    <tr>\n",
       "      <th>1</th>\n",
       "      <td>chr1</td>\n",
       "      <td>10025912</td>\n",
       "      <td>10027656</td>\n",
       "      <td>Peak_7082</td>\n",
       "      <td>319</td>\n",
       "      <td>1744</td>\n",
       "    </tr>\n",
       "    <tr>\n",
       "      <th>2</th>\n",
       "      <td>chr1</td>\n",
       "      <td>10027785</td>\n",
       "      <td>10028029</td>\n",
       "      <td>Peak_22502</td>\n",
       "      <td>181</td>\n",
       "      <td>244</td>\n",
       "    </tr>\n",
       "    <tr>\n",
       "      <th>3</th>\n",
       "      <td>chr1</td>\n",
       "      <td>10028181</td>\n",
       "      <td>10029776</td>\n",
       "      <td>Peak_6117</td>\n",
       "      <td>343</td>\n",
       "      <td>1595</td>\n",
       "    </tr>\n",
       "    <tr>\n",
       "      <th>4</th>\n",
       "      <td>chr1</td>\n",
       "      <td>10029944</td>\n",
       "      <td>10030682</td>\n",
       "      <td>Peak_25150</td>\n",
       "      <td>170</td>\n",
       "      <td>738</td>\n",
       "    </tr>\n",
       "    <tr>\n",
       "      <th>...</th>\n",
       "      <td>...</td>\n",
       "      <td>...</td>\n",
       "      <td>...</td>\n",
       "      <td>...</td>\n",
       "      <td>...</td>\n",
       "      <td>...</td>\n",
       "    </tr>\n",
       "    <tr>\n",
       "      <th>103179</th>\n",
       "      <td>chrY</td>\n",
       "      <td>90732178</td>\n",
       "      <td>90732397</td>\n",
       "      <td>Peak_56940</td>\n",
       "      <td>96</td>\n",
       "      <td>219</td>\n",
       "    </tr>\n",
       "    <tr>\n",
       "      <th>103180</th>\n",
       "      <td>chrY</td>\n",
       "      <td>90738649</td>\n",
       "      <td>90740632</td>\n",
       "      <td>Peak_144</td>\n",
       "      <td>949</td>\n",
       "      <td>1983</td>\n",
       "    </tr>\n",
       "    <tr>\n",
       "      <th>103181</th>\n",
       "      <td>chrY</td>\n",
       "      <td>90740901</td>\n",
       "      <td>90743174</td>\n",
       "      <td>Peak_127</td>\n",
       "      <td>974</td>\n",
       "      <td>2273</td>\n",
       "    </tr>\n",
       "    <tr>\n",
       "      <th>103182</th>\n",
       "      <td>chrY</td>\n",
       "      <td>90744302</td>\n",
       "      <td>90745087</td>\n",
       "      <td>Peak_10896</td>\n",
       "      <td>265</td>\n",
       "      <td>785</td>\n",
       "    </tr>\n",
       "    <tr>\n",
       "      <th>103183</th>\n",
       "      <td>chrY</td>\n",
       "      <td>90745278</td>\n",
       "      <td>90745893</td>\n",
       "      <td>Peak_38150</td>\n",
       "      <td>132</td>\n",
       "      <td>615</td>\n",
       "    </tr>\n",
       "  </tbody>\n",
       "</table>\n",
       "<p>103184 rows × 6 columns</p>\n",
       "</div>"
      ],
      "text/plain": [
       "           0         1         2           3    4   len\n",
       "0       chr1  10022841  10025240  Peak_10672  270  2399\n",
       "1       chr1  10025912  10027656   Peak_7082  319  1744\n",
       "2       chr1  10027785  10028029  Peak_22502  181   244\n",
       "3       chr1  10028181  10029776   Peak_6117  343  1595\n",
       "4       chr1  10029944  10030682  Peak_25150  170   738\n",
       "...      ...       ...       ...         ...  ...   ...\n",
       "103179  chrY  90732178  90732397  Peak_56940   96   219\n",
       "103180  chrY  90738649  90740632    Peak_144  949  1983\n",
       "103181  chrY  90740901  90743174    Peak_127  974  2273\n",
       "103182  chrY  90744302  90745087  Peak_10896  265   785\n",
       "103183  chrY  90745278  90745893  Peak_38150  132   615\n",
       "\n",
       "[103184 rows x 6 columns]"
      ]
     },
     "execution_count": 23,
     "metadata": {},
     "output_type": "execute_result"
    }
   ],
   "source": [
    "exp = \"ENCFF034WYM\"\n",
    "df = pd.read_csv('../data/H3K36me3.' + exp + '.bed.gz.mm10.bed', sep='\\t', comment='t', header=None)\n",
    "df[\"len\"] = df[2] - df[1]\n",
    "df"
   ]
  },
  {
   "cell_type": "code",
   "execution_count": 24,
   "metadata": {},
   "outputs": [
    {
     "data": {
      "image/png": "[encoded data removed]",
      "text/plain": [
       "<Figure size 640x480 with 1 Axes>"
      ]
     },
     "metadata": {
      "needs_background": "light"
     },
     "output_type": "display_data"
    }
   ],
   "source": [
    "plt.figure(figsize=(8, 6), dpi=80)\n",
    "plt.hist(df.len, bins = 100)\n",
    "plt.savefig('../img/' + exp +'_nofilter.pdf')"
   ]
  },
  {
   "cell_type": "code",
   "execution_count": 25,
   "metadata": {},
   "outputs": [
    {
     "data": {
      "image/png": "[encoded data removed]",
      "text/plain": [
       "<Figure size 640x480 with 1 Axes>"
      ]
     },
     "metadata": {
      "needs_background": "light"
     },
     "output_type": "display_data"
    }
   ],
   "source": [
    "df = df[df[\"len\"] < 10000]\n",
    "plt.figure(figsize=(8, 6), dpi=80)\n",
    "plt.hist(df.len, bins = 100)\n",
    "plt.savefig('../img/' + exp + '_filter.pdf')"
   ]
  },
  {
   "cell_type": "code",
   "execution_count": 27,
   "metadata": {},
   "outputs": [],
   "source": [
    "df_ENCFF034WYM = df.copy()"
   ]
  },
  {
   "cell_type": "code",
   "execution_count": null,
   "metadata": {},
   "outputs": [],
   "source": []
  },
  {
   "cell_type": "code",
   "execution_count": 28,
   "metadata": {},
   "outputs": [
    {
     "data": {
      "text/html": [
       "<div>\n",
       "<style scoped>\n",
       "    .dataframe tbody tr th:only-of-type {\n",
       "        vertical-align: middle;\n",
       "    }\n",
       "\n",
       "    .dataframe tbody tr th {\n",
       "        vertical-align: top;\n",
       "    }\n",
       "\n",
       "    .dataframe thead th {\n",
       "        text-align: right;\n",
       "    }\n",
       "</style>\n",
       "<table border=\"1\" class=\"dataframe\">\n",
       "  <thead>\n",
       "    <tr style=\"text-align: right;\">\n",
       "      <th></th>\n",
       "      <th>0</th>\n",
       "      <th>1</th>\n",
       "      <th>2</th>\n",
       "      <th>3</th>\n",
       "      <th>4</th>\n",
       "      <th>len</th>\n",
       "    </tr>\n",
       "  </thead>\n",
       "  <tbody>\n",
       "    <tr>\n",
       "      <th>0</th>\n",
       "      <td>chr1</td>\n",
       "      <td>10022342</td>\n",
       "      <td>10022859</td>\n",
       "      <td>Peak_122423</td>\n",
       "      <td>46</td>\n",
       "      <td>517</td>\n",
       "    </tr>\n",
       "    <tr>\n",
       "      <th>1</th>\n",
       "      <td>chr1</td>\n",
       "      <td>10022928</td>\n",
       "      <td>10025221</td>\n",
       "      <td>Peak_8561</td>\n",
       "      <td>368</td>\n",
       "      <td>2293</td>\n",
       "    </tr>\n",
       "    <tr>\n",
       "      <th>2</th>\n",
       "      <td>chr1</td>\n",
       "      <td>10025344</td>\n",
       "      <td>10025845</td>\n",
       "      <td>Peak_38947</td>\n",
       "      <td>142</td>\n",
       "      <td>501</td>\n",
       "    </tr>\n",
       "    <tr>\n",
       "      <th>3</th>\n",
       "      <td>chr1</td>\n",
       "      <td>10025934</td>\n",
       "      <td>10027692</td>\n",
       "      <td>Peak_9197</td>\n",
       "      <td>356</td>\n",
       "      <td>1758</td>\n",
       "    </tr>\n",
       "    <tr>\n",
       "      <th>4</th>\n",
       "      <td>chr1</td>\n",
       "      <td>10027747</td>\n",
       "      <td>10029823</td>\n",
       "      <td>Peak_6054</td>\n",
       "      <td>428</td>\n",
       "      <td>2076</td>\n",
       "    </tr>\n",
       "    <tr>\n",
       "      <th>...</th>\n",
       "      <td>...</td>\n",
       "      <td>...</td>\n",
       "      <td>...</td>\n",
       "      <td>...</td>\n",
       "      <td>...</td>\n",
       "      <td>...</td>\n",
       "    </tr>\n",
       "    <tr>\n",
       "      <th>108572</th>\n",
       "      <td>chrY</td>\n",
       "      <td>90738636</td>\n",
       "      <td>90740639</td>\n",
       "      <td>Peak_1009</td>\n",
       "      <td>768</td>\n",
       "      <td>2003</td>\n",
       "    </tr>\n",
       "    <tr>\n",
       "      <th>108573</th>\n",
       "      <td>chrY</td>\n",
       "      <td>90740895</td>\n",
       "      <td>90743207</td>\n",
       "      <td>Peak_685</td>\n",
       "      <td>844</td>\n",
       "      <td>2312</td>\n",
       "    </tr>\n",
       "    <tr>\n",
       "      <th>108574</th>\n",
       "      <td>chrY</td>\n",
       "      <td>90744292</td>\n",
       "      <td>90745064</td>\n",
       "      <td>Peak_14587</td>\n",
       "      <td>282</td>\n",
       "      <td>772</td>\n",
       "    </tr>\n",
       "    <tr>\n",
       "      <th>108575</th>\n",
       "      <td>chrY</td>\n",
       "      <td>90745168</td>\n",
       "      <td>90745930</td>\n",
       "      <td>Peak_3689</td>\n",
       "      <td>521</td>\n",
       "      <td>762</td>\n",
       "    </tr>\n",
       "    <tr>\n",
       "      <th>108576</th>\n",
       "      <td>chrY</td>\n",
       "      <td>939888</td>\n",
       "      <td>940313</td>\n",
       "      <td>Peak_88416</td>\n",
       "      <td>68</td>\n",
       "      <td>425</td>\n",
       "    </tr>\n",
       "  </tbody>\n",
       "</table>\n",
       "<p>108577 rows × 6 columns</p>\n",
       "</div>"
      ],
      "text/plain": [
       "           0         1         2            3    4   len\n",
       "0       chr1  10022342  10022859  Peak_122423   46   517\n",
       "1       chr1  10022928  10025221    Peak_8561  368  2293\n",
       "2       chr1  10025344  10025845   Peak_38947  142   501\n",
       "3       chr1  10025934  10027692    Peak_9197  356  1758\n",
       "4       chr1  10027747  10029823    Peak_6054  428  2076\n",
       "...      ...       ...       ...          ...  ...   ...\n",
       "108572  chrY  90738636  90740639    Peak_1009  768  2003\n",
       "108573  chrY  90740895  90743207     Peak_685  844  2312\n",
       "108574  chrY  90744292  90745064   Peak_14587  282   772\n",
       "108575  chrY  90745168  90745930    Peak_3689  521   762\n",
       "108576  chrY    939888    940313   Peak_88416   68   425\n",
       "\n",
       "[108577 rows x 6 columns]"
      ]
     },
     "execution_count": 28,
     "metadata": {},
     "output_type": "execute_result"
    }
   ],
   "source": [
    "exp = \"ENCFF633VDV\"\n",
    "df = pd.read_csv('../data/H3K36me3.' + exp + '.bed.gz.mm10.bed', sep='\\t', comment='t', header=None)\n",
    "df[\"len\"] = df[2] - df[1]\n",
    "df"
   ]
  },
  {
   "cell_type": "code",
   "execution_count": 29,
   "metadata": {},
   "outputs": [
    {
     "data": {
      "image/png": "[encoded data removed]",
      "text/plain": [
       "<Figure size 640x480 with 1 Axes>"
      ]
     },
     "metadata": {
      "needs_background": "light"
     },
     "output_type": "display_data"
    }
   ],
   "source": [
    "plt.figure(figsize=(8, 6), dpi=80)\n",
    "plt.hist(df.len, bins = 100)\n",
    "plt.savefig('../img/' + exp +'_nofilter.pdf')"
   ]
  },
  {
   "cell_type": "code",
   "execution_count": 30,
   "metadata": {},
   "outputs": [
    {
     "data": {
      "image/png": "[encoded data removed]",
      "text/plain": [
       "<Figure size 640x480 with 1 Axes>"
      ]
     },
     "metadata": {
      "needs_background": "light"
     },
     "output_type": "display_data"
    }
   ],
   "source": [
    "df = df[df[\"len\"] < 10000]\n",
    "plt.figure(figsize=(8, 6), dpi=80)\n",
    "plt.hist(df.len, bins = 100)\n",
    "plt.savefig('../img/' + exp + '_filter.pdf')"
   ]
  },
  {
   "cell_type": "code",
   "execution_count": 33,
   "metadata": {},
   "outputs": [],
   "source": [
    "df_ENCFF633VDV = df.copy()"
   ]
  },
  {
   "cell_type": "code",
   "execution_count": null,
   "metadata": {},
   "outputs": [],
   "source": []
  },
  {
   "cell_type": "code",
   "execution_count": 34,
   "metadata": {},
   "outputs": [],
   "source": [
    "df_ENCFF034WYM.to_csv('../data/H3K36me3.ENCFF034WYM.filtered.bed', sep ='\\t', header=None, index=None)\n",
    "df_ENCFF633VDV.to_csv('../data/H3K36me3.ENCFF633VDV.filtered.bed', sep ='\\t', header=None, index=None)\n",
    "all_exp.to_csv('../data/H3K36me3.filtered.bed', sep ='\\t', header=None, index=None) # склеил тут а не позже"
   ]
  },
  {
   "cell_type": "code",
   "execution_count": 35,
   "metadata": {},
   "outputs": [
    {
     "name": "stdout",
     "output_type": "stream",
     "text": [
      "chr1 4770333 195130061\n",
      "chr10 3115137 130566642\n",
      "chr11 3130159 121952096\n",
      "chr12 3236501 118299988\n",
      "chr13 3484829 119789411\n",
      "chr14 7830540 122972567\n",
      "chr15 3274437 103364140\n",
      "chr16 3745669 98080164\n",
      "chr17 3064143 94876788\n",
      "chr18 3386601 90593154\n",
      "chr19 3259707 61136386\n",
      "chr2 3203035 181894545\n",
      "chr3 5242789 159534882\n",
      "chr4 3537746 156252237\n",
      "chr5 3099308 151650179\n",
      "chr6 3375494 149337480\n",
      "chr7 3294887 145280316\n",
      "chr8 3153632 129283296\n",
      "chr9 3336648 124477023\n",
      "chrX 7160939 170815920\n",
      "chrY 259142 90745930\n"
     ]
    }
   ],
   "source": [
    "group = all_exp.groupby(0)\n",
    "min_start = group.min()[1].to_frame()\n",
    "max_end = group.max()[2].to_frame()\n",
    "\n",
    "min_start[\"chr\"] = min_start.index\n",
    "max_end[\"chr\"] = max_end.index\n",
    "region = min_start.merge(max_end, how='inner', on = \"chr\")\n",
    "for index, row in region.iterrows():\n",
    "    start = row[1]\n",
    "    end = row[2]\n",
    "    print(row[\"chr\"], row[1], row[2])"
   ]
  },
  {
   "cell_type": "code",
   "execution_count": 36,
   "metadata": {},
   "outputs": [
    {
     "data": {
      "image/png": "[encoded data removed]",
      "text/plain": [
       "<Figure size 640x480 with 1 Axes>"
      ]
     },
     "metadata": {
      "needs_background": "light"
     },
     "output_type": "display_data"
    }
   ],
   "source": [
    "df = pd.read_csv('../data/mouseZ-DNA1.bed', sep='\\t', comment='t', header=None)\n",
    "df[\"len\"] = df[2] - df[1]\n",
    "plt.figure(figsize=(8, 6), dpi=80)\n",
    "plt.hist(df.len, bins = 100)\n",
    "plt.savefig('../img/ZDNA.pdf')"
   ]
  },
  {
   "cell_type": "code",
   "execution_count": null,
   "metadata": {},
   "outputs": [],
   "source": []
  },
  {
   "cell_type": "code",
   "execution_count": null,
   "metadata": {},
   "outputs": [],
   "source": []
  }
 ],
 "metadata": {
  "kernelspec": {
   "display_name": "Python 3",
   "language": "python",
   "name": "python3"
  },
  "language_info": {
   "codemirror_mode": {
    "name": "ipython",
    "version": 3
   },
   "file_extension": ".py",
   "mimetype": "text/x-python",
   "name": "python",
   "nbconvert_exporter": "python",
   "pygments_lexer": "ipython3",
   "version": "3.7.6"
  }
 },
 "nbformat": 4,
 "nbformat_minor": 4
}
