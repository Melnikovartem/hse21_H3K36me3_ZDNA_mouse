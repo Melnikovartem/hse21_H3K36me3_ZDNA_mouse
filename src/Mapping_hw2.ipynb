{
 "cells": [
  {
   "cell_type": "code",
   "execution_count": 2,
   "metadata": {},
   "outputs": [],
   "source": [
    "import pandas as pd\n",
    "import matplotlib.pyplot as plt\n",
    "import numpy as np\n",
    "import seaborn as sns\n",
    "sns.set_theme(style=\"whitegrid\")"
   ]
  },
  {
   "cell_type": "code",
   "execution_count": 3,
   "metadata": {},
   "outputs": [],
   "source": [
    "mySeq = pd.read_csv('../data/H3K36me3.intersect_with_mouseZ.mm10.bed', sep='\\t', comment='t', header=None)\n",
    "mergeSeq = pd.read_csv('../data/H3K36me3.merge.mm10.bed', sep='\\t', comment='t', header=None)\n",
    "mmSeq = pd.read_csv('../data/mouseZ.bed', sep='\\t', comment='t', header=None)"
   ]
  },
  {
   "cell_type": "code",
   "execution_count": 12,
   "metadata": {},
   "outputs": [
    {
     "data": {
      "text/html": [
       "<div>\n",
       "<style scoped>\n",
       "    .dataframe tbody tr th:only-of-type {\n",
       "        vertical-align: middle;\n",
       "    }\n",
       "\n",
       "    .dataframe tbody tr th {\n",
       "        vertical-align: top;\n",
       "    }\n",
       "\n",
       "    .dataframe thead th {\n",
       "        text-align: right;\n",
       "    }\n",
       "</style>\n",
       "<table border=\"1\" class=\"dataframe\">\n",
       "  <thead>\n",
       "    <tr style=\"text-align: right;\">\n",
       "      <th></th>\n",
       "      <th>0</th>\n",
       "      <th>1</th>\n",
       "      <th>2</th>\n",
       "      <th>center</th>\n",
       "      <th>range_start</th>\n",
       "      <th>range_end</th>\n",
       "    </tr>\n",
       "  </thead>\n",
       "  <tbody>\n",
       "    <tr>\n",
       "      <th>0</th>\n",
       "      <td>chr1</td>\n",
       "      <td>43778741</td>\n",
       "      <td>43778780</td>\n",
       "      <td>43778760</td>\n",
       "      <td>43778260</td>\n",
       "      <td>43779260</td>\n",
       "    </tr>\n",
       "    <tr>\n",
       "      <th>1</th>\n",
       "      <td>chr2</td>\n",
       "      <td>5009728</td>\n",
       "      <td>5009788</td>\n",
       "      <td>5009758</td>\n",
       "      <td>5009258</td>\n",
       "      <td>5010258</td>\n",
       "    </tr>\n",
       "    <tr>\n",
       "      <th>2</th>\n",
       "      <td>chr2</td>\n",
       "      <td>5010128</td>\n",
       "      <td>5010134</td>\n",
       "      <td>5010131</td>\n",
       "      <td>5009631</td>\n",
       "      <td>5010631</td>\n",
       "    </tr>\n",
       "    <tr>\n",
       "      <th>3</th>\n",
       "      <td>chr2</td>\n",
       "      <td>5922429</td>\n",
       "      <td>5922635</td>\n",
       "      <td>5922532</td>\n",
       "      <td>5922032</td>\n",
       "      <td>5923032</td>\n",
       "    </tr>\n",
       "    <tr>\n",
       "      <th>4</th>\n",
       "      <td>chr2</td>\n",
       "      <td>27019570</td>\n",
       "      <td>27019628</td>\n",
       "      <td>27019599</td>\n",
       "      <td>27019099</td>\n",
       "      <td>27020099</td>\n",
       "    </tr>\n",
       "  </tbody>\n",
       "</table>\n",
       "</div>"
      ],
      "text/plain": [
       "      0         1         2    center  range_start  range_end\n",
       "0  chr1  43778741  43778780  43778760     43778260   43779260\n",
       "1  chr2   5009728   5009788   5009758      5009258    5010258\n",
       "2  chr2   5010128   5010134   5010131      5009631    5010631\n",
       "3  chr2   5922429   5922635   5922532      5922032    5923032\n",
       "4  chr2  27019570  27019628  27019599     27019099   27020099"
      ]
     },
     "execution_count": 12,
     "metadata": {},
     "output_type": "execute_result"
    }
   ],
   "source": [
    "mySeq[\"center\"] = np.floor((mySeq[2] + mySeq[1])/2).astype(\"int64\")\n",
    "mySeq[\"range_start\"] = mySeq[\"center\"] - 500\n",
    "mySeq[\"range_end\"] = mySeq[\"center\"] + 500\n",
    "mySeq.head()"
   ]
  },
  {
   "cell_type": "code",
   "execution_count": 14,
   "metadata": {},
   "outputs": [],
   "source": [
    "mySeq[[0, \"range_start\", \"range_end\"]].to_csv('../data/network.positive.bed', sep ='\\t', header=None, index=None)"
   ]
  },
  {
   "cell_type": "code",
   "execution_count": null,
   "metadata": {},
   "outputs": [],
   "source": []
  }
 ],
 "metadata": {
  "kernelspec": {
   "display_name": "Python 3",
   "language": "python",
   "name": "python3"
  },
  "language_info": {
   "codemirror_mode": {
    "name": "ipython",
    "version": 3
   },
   "file_extension": ".py",
   "mimetype": "text/x-python",
   "name": "python",
   "nbconvert_exporter": "python",
   "pygments_lexer": "ipython3",
   "version": "3.7.6"
  }
 },
 "nbformat": 4,
 "nbformat_minor": 4
}
